{
 "cells": [
  {
   "cell_type": "code",
   "execution_count": 1,
   "metadata": {},
   "outputs": [
    {
     "data": {
      "text/html": [
       "<div>\n",
       "<style scoped>\n",
       "    .dataframe tbody tr th:only-of-type {\n",
       "        vertical-align: middle;\n",
       "    }\n",
       "\n",
       "    .dataframe tbody tr th {\n",
       "        vertical-align: top;\n",
       "    }\n",
       "\n",
       "    .dataframe thead th {\n",
       "        text-align: right;\n",
       "    }\n",
       "</style>\n",
       "<table border=\"1\" class=\"dataframe\">\n",
       "  <thead>\n",
       "    <tr style=\"text-align: right;\">\n",
       "      <th></th>\n",
       "      <th>Unnamed: 0</th>\n",
       "      <th>plant1_train.mea_ddhr</th>\n",
       "      <th>plant1_train.tem_in_loc1</th>\n",
       "      <th>plant1_train.hum_in_loc1</th>\n",
       "      <th>plant1_train.tem_coil_loc1</th>\n",
       "      <th>plant1_train.tem_in_loc2</th>\n",
       "      <th>plant1_train.hum_in_loc2</th>\n",
       "      <th>plant1_train.tem_coil_loc2</th>\n",
       "      <th>plant1_train.tem_in_loc3</th>\n",
       "      <th>plant1_train.hum_in_loc3</th>\n",
       "      <th>plant1_train.tem_coil_loc3</th>\n",
       "      <th>plant1_train.tem_out_loc1</th>\n",
       "      <th>plant1_train.hum_out_loc1</th>\n",
       "      <th>plant1_train.cond_loc1</th>\n",
       "      <th>plant1_train.cond_loc2</th>\n",
       "      <th>plant1_train.cond_loc3</th>\n",
       "    </tr>\n",
       "  </thead>\n",
       "  <tbody>\n",
       "    <tr>\n",
       "      <th>0</th>\n",
       "      <td>1</td>\n",
       "      <td>2016-04-01 00:00:00</td>\n",
       "      <td>16.0</td>\n",
       "      <td>24.0</td>\n",
       "      <td>11.0</td>\n",
       "      <td>14.0</td>\n",
       "      <td>23.0</td>\n",
       "      <td>11.0</td>\n",
       "      <td>13.0</td>\n",
       "      <td>32.0</td>\n",
       "      <td>10.0</td>\n",
       "      <td>9.0</td>\n",
       "      <td>42.0</td>\n",
       "      <td>0.0</td>\n",
       "      <td>0.0</td>\n",
       "      <td>0.0</td>\n",
       "    </tr>\n",
       "    <tr>\n",
       "      <th>1</th>\n",
       "      <td>2</td>\n",
       "      <td>2016-04-01 03:00:00</td>\n",
       "      <td>14.0</td>\n",
       "      <td>28.0</td>\n",
       "      <td>10.0</td>\n",
       "      <td>12.0</td>\n",
       "      <td>32.0</td>\n",
       "      <td>9.0</td>\n",
       "      <td>11.0</td>\n",
       "      <td>42.0</td>\n",
       "      <td>7.0</td>\n",
       "      <td>7.0</td>\n",
       "      <td>59.0</td>\n",
       "      <td>0.0</td>\n",
       "      <td>0.0</td>\n",
       "      <td>0.0</td>\n",
       "    </tr>\n",
       "    <tr>\n",
       "      <th>2</th>\n",
       "      <td>3</td>\n",
       "      <td>2016-04-01 06:00:00</td>\n",
       "      <td>13.0</td>\n",
       "      <td>33.0</td>\n",
       "      <td>10.0</td>\n",
       "      <td>11.0</td>\n",
       "      <td>37.0</td>\n",
       "      <td>9.0</td>\n",
       "      <td>10.0</td>\n",
       "      <td>44.0</td>\n",
       "      <td>7.0</td>\n",
       "      <td>6.0</td>\n",
       "      <td>56.0</td>\n",
       "      <td>0.0</td>\n",
       "      <td>0.0</td>\n",
       "      <td>0.0</td>\n",
       "    </tr>\n",
       "    <tr>\n",
       "      <th>3</th>\n",
       "      <td>4</td>\n",
       "      <td>2016-04-01 09:00:00</td>\n",
       "      <td>13.0</td>\n",
       "      <td>33.0</td>\n",
       "      <td>10.0</td>\n",
       "      <td>11.0</td>\n",
       "      <td>35.0</td>\n",
       "      <td>9.0</td>\n",
       "      <td>10.0</td>\n",
       "      <td>41.0</td>\n",
       "      <td>8.0</td>\n",
       "      <td>18.0</td>\n",
       "      <td>30.0</td>\n",
       "      <td>0.0</td>\n",
       "      <td>0.0</td>\n",
       "      <td>0.0</td>\n",
       "    </tr>\n",
       "    <tr>\n",
       "      <th>4</th>\n",
       "      <td>5</td>\n",
       "      <td>2016-04-01 12:00:00</td>\n",
       "      <td>16.0</td>\n",
       "      <td>28.0</td>\n",
       "      <td>10.0</td>\n",
       "      <td>15.0</td>\n",
       "      <td>27.0</td>\n",
       "      <td>11.0</td>\n",
       "      <td>14.0</td>\n",
       "      <td>30.0</td>\n",
       "      <td>9.0</td>\n",
       "      <td>18.0</td>\n",
       "      <td>20.0</td>\n",
       "      <td>0.0</td>\n",
       "      <td>0.0</td>\n",
       "      <td>0.0</td>\n",
       "    </tr>\n",
       "    <tr>\n",
       "      <th>5</th>\n",
       "      <td>6</td>\n",
       "      <td>2016-04-01 15:00:00</td>\n",
       "      <td>18.0</td>\n",
       "      <td>24.0</td>\n",
       "      <td>14.0</td>\n",
       "      <td>18.0</td>\n",
       "      <td>21.0</td>\n",
       "      <td>14.0</td>\n",
       "      <td>16.0</td>\n",
       "      <td>27.0</td>\n",
       "      <td>12.0</td>\n",
       "      <td>17.0</td>\n",
       "      <td>23.0</td>\n",
       "      <td>0.0</td>\n",
       "      <td>0.0</td>\n",
       "      <td>0.0</td>\n",
       "    </tr>\n",
       "    <tr>\n",
       "      <th>6</th>\n",
       "      <td>7</td>\n",
       "      <td>2016-04-01 18:00:00</td>\n",
       "      <td>17.0</td>\n",
       "      <td>28.0</td>\n",
       "      <td>14.0</td>\n",
       "      <td>17.0</td>\n",
       "      <td>29.0</td>\n",
       "      <td>14.0</td>\n",
       "      <td>15.0</td>\n",
       "      <td>38.0</td>\n",
       "      <td>12.0</td>\n",
       "      <td>12.0</td>\n",
       "      <td>52.0</td>\n",
       "      <td>0.0</td>\n",
       "      <td>0.0</td>\n",
       "      <td>0.0</td>\n",
       "    </tr>\n",
       "    <tr>\n",
       "      <th>7</th>\n",
       "      <td>8</td>\n",
       "      <td>2016-04-01 21:00:00</td>\n",
       "      <td>16.0</td>\n",
       "      <td>38.0</td>\n",
       "      <td>12.0</td>\n",
       "      <td>15.0</td>\n",
       "      <td>36.0</td>\n",
       "      <td>12.0</td>\n",
       "      <td>14.0</td>\n",
       "      <td>41.0</td>\n",
       "      <td>11.0</td>\n",
       "      <td>11.0</td>\n",
       "      <td>55.0</td>\n",
       "      <td>0.0</td>\n",
       "      <td>0.0</td>\n",
       "      <td>0.0</td>\n",
       "    </tr>\n",
       "    <tr>\n",
       "      <th>8</th>\n",
       "      <td>9</td>\n",
       "      <td>2016-04-02 00:00:00</td>\n",
       "      <td>15.0</td>\n",
       "      <td>41.0</td>\n",
       "      <td>12.0</td>\n",
       "      <td>14.0</td>\n",
       "      <td>43.0</td>\n",
       "      <td>12.0</td>\n",
       "      <td>13.0</td>\n",
       "      <td>49.0</td>\n",
       "      <td>11.0</td>\n",
       "      <td>10.0</td>\n",
       "      <td>57.0</td>\n",
       "      <td>0.0</td>\n",
       "      <td>0.0</td>\n",
       "      <td>0.0</td>\n",
       "    </tr>\n",
       "    <tr>\n",
       "      <th>9</th>\n",
       "      <td>10</td>\n",
       "      <td>2016-04-02 03:00:00</td>\n",
       "      <td>14.0</td>\n",
       "      <td>41.0</td>\n",
       "      <td>10.0</td>\n",
       "      <td>12.0</td>\n",
       "      <td>44.0</td>\n",
       "      <td>9.0</td>\n",
       "      <td>12.0</td>\n",
       "      <td>49.0</td>\n",
       "      <td>8.0</td>\n",
       "      <td>10.0</td>\n",
       "      <td>54.0</td>\n",
       "      <td>0.0</td>\n",
       "      <td>0.0</td>\n",
       "      <td>0.0</td>\n",
       "    </tr>\n",
       "  </tbody>\n",
       "</table>\n",
       "</div>"
      ],
      "text/plain": [
       "   Unnamed: 0 plant1_train.mea_ddhr  plant1_train.tem_in_loc1  \\\n",
       "0           1   2016-04-01 00:00:00                      16.0   \n",
       "1           2   2016-04-01 03:00:00                      14.0   \n",
       "2           3   2016-04-01 06:00:00                      13.0   \n",
       "3           4   2016-04-01 09:00:00                      13.0   \n",
       "4           5   2016-04-01 12:00:00                      16.0   \n",
       "5           6   2016-04-01 15:00:00                      18.0   \n",
       "6           7   2016-04-01 18:00:00                      17.0   \n",
       "7           8   2016-04-01 21:00:00                      16.0   \n",
       "8           9   2016-04-02 00:00:00                      15.0   \n",
       "9          10   2016-04-02 03:00:00                      14.0   \n",
       "\n",
       "   plant1_train.hum_in_loc1  plant1_train.tem_coil_loc1  \\\n",
       "0                      24.0                        11.0   \n",
       "1                      28.0                        10.0   \n",
       "2                      33.0                        10.0   \n",
       "3                      33.0                        10.0   \n",
       "4                      28.0                        10.0   \n",
       "5                      24.0                        14.0   \n",
       "6                      28.0                        14.0   \n",
       "7                      38.0                        12.0   \n",
       "8                      41.0                        12.0   \n",
       "9                      41.0                        10.0   \n",
       "\n",
       "   plant1_train.tem_in_loc2  plant1_train.hum_in_loc2  \\\n",
       "0                      14.0                      23.0   \n",
       "1                      12.0                      32.0   \n",
       "2                      11.0                      37.0   \n",
       "3                      11.0                      35.0   \n",
       "4                      15.0                      27.0   \n",
       "5                      18.0                      21.0   \n",
       "6                      17.0                      29.0   \n",
       "7                      15.0                      36.0   \n",
       "8                      14.0                      43.0   \n",
       "9                      12.0                      44.0   \n",
       "\n",
       "   plant1_train.tem_coil_loc2  plant1_train.tem_in_loc3  \\\n",
       "0                        11.0                      13.0   \n",
       "1                         9.0                      11.0   \n",
       "2                         9.0                      10.0   \n",
       "3                         9.0                      10.0   \n",
       "4                        11.0                      14.0   \n",
       "5                        14.0                      16.0   \n",
       "6                        14.0                      15.0   \n",
       "7                        12.0                      14.0   \n",
       "8                        12.0                      13.0   \n",
       "9                         9.0                      12.0   \n",
       "\n",
       "   plant1_train.hum_in_loc3  plant1_train.tem_coil_loc3  \\\n",
       "0                      32.0                        10.0   \n",
       "1                      42.0                         7.0   \n",
       "2                      44.0                         7.0   \n",
       "3                      41.0                         8.0   \n",
       "4                      30.0                         9.0   \n",
       "5                      27.0                        12.0   \n",
       "6                      38.0                        12.0   \n",
       "7                      41.0                        11.0   \n",
       "8                      49.0                        11.0   \n",
       "9                      49.0                         8.0   \n",
       "\n",
       "   plant1_train.tem_out_loc1  plant1_train.hum_out_loc1  \\\n",
       "0                        9.0                       42.0   \n",
       "1                        7.0                       59.0   \n",
       "2                        6.0                       56.0   \n",
       "3                       18.0                       30.0   \n",
       "4                       18.0                       20.0   \n",
       "5                       17.0                       23.0   \n",
       "6                       12.0                       52.0   \n",
       "7                       11.0                       55.0   \n",
       "8                       10.0                       57.0   \n",
       "9                       10.0                       54.0   \n",
       "\n",
       "   plant1_train.cond_loc1  plant1_train.cond_loc2  plant1_train.cond_loc3  \n",
       "0                     0.0                     0.0                     0.0  \n",
       "1                     0.0                     0.0                     0.0  \n",
       "2                     0.0                     0.0                     0.0  \n",
       "3                     0.0                     0.0                     0.0  \n",
       "4                     0.0                     0.0                     0.0  \n",
       "5                     0.0                     0.0                     0.0  \n",
       "6                     0.0                     0.0                     0.0  \n",
       "7                     0.0                     0.0                     0.0  \n",
       "8                     0.0                     0.0                     0.0  \n",
       "9                     0.0                     0.0                     0.0  "
      ]
     },
     "execution_count": 1,
     "metadata": {},
     "output_type": "execute_result"
    }
   ],
   "source": [
    "import pandas as pd\n",
    "\n",
    "plant1 = pd.read_csv('./plant1_train.csv',parse_dates=['plant1_train.mea_ddhr'])\n",
    "plant1.head(10)"
   ]
  },
  {
   "cell_type": "code",
   "execution_count": 2,
   "metadata": {},
   "outputs": [],
   "source": [
    "del plant1['Unnamed: 0']"
   ]
  },
  {
   "cell_type": "code",
   "execution_count": 3,
   "metadata": {},
   "outputs": [
    {
     "data": {
      "text/html": [
       "<div>\n",
       "<style scoped>\n",
       "    .dataframe tbody tr th:only-of-type {\n",
       "        vertical-align: middle;\n",
       "    }\n",
       "\n",
       "    .dataframe tbody tr th {\n",
       "        vertical-align: top;\n",
       "    }\n",
       "\n",
       "    .dataframe thead th {\n",
       "        text-align: right;\n",
       "    }\n",
       "</style>\n",
       "<table border=\"1\" class=\"dataframe\">\n",
       "  <thead>\n",
       "    <tr style=\"text-align: right;\">\n",
       "      <th></th>\n",
       "      <th>plant1_train.mea_ddhr</th>\n",
       "      <th>plant1_train.tem_in_loc1</th>\n",
       "      <th>plant1_train.hum_in_loc1</th>\n",
       "      <th>plant1_train.tem_coil_loc1</th>\n",
       "      <th>plant1_train.tem_in_loc2</th>\n",
       "      <th>plant1_train.hum_in_loc2</th>\n",
       "      <th>plant1_train.tem_coil_loc2</th>\n",
       "      <th>plant1_train.tem_in_loc3</th>\n",
       "      <th>plant1_train.hum_in_loc3</th>\n",
       "      <th>plant1_train.tem_coil_loc3</th>\n",
       "      <th>...</th>\n",
       "      <th>plant1_train.hum_out_loc1</th>\n",
       "      <th>plant1_train.cond_loc1</th>\n",
       "      <th>plant1_train.cond_loc2</th>\n",
       "      <th>plant1_train.cond_loc3</th>\n",
       "      <th>year</th>\n",
       "      <th>month</th>\n",
       "      <th>day</th>\n",
       "      <th>hour</th>\n",
       "      <th>minute</th>\n",
       "      <th>second</th>\n",
       "    </tr>\n",
       "  </thead>\n",
       "  <tbody>\n",
       "    <tr>\n",
       "      <th>0</th>\n",
       "      <td>2016-04-01 00:00:00</td>\n",
       "      <td>16.0</td>\n",
       "      <td>24.0</td>\n",
       "      <td>11.0</td>\n",
       "      <td>14.0</td>\n",
       "      <td>23.0</td>\n",
       "      <td>11.0</td>\n",
       "      <td>13.0</td>\n",
       "      <td>32.0</td>\n",
       "      <td>10.0</td>\n",
       "      <td>...</td>\n",
       "      <td>42.0</td>\n",
       "      <td>0.0</td>\n",
       "      <td>0.0</td>\n",
       "      <td>0.0</td>\n",
       "      <td>2016</td>\n",
       "      <td>4</td>\n",
       "      <td>1</td>\n",
       "      <td>0</td>\n",
       "      <td>0</td>\n",
       "      <td>0</td>\n",
       "    </tr>\n",
       "    <tr>\n",
       "      <th>1</th>\n",
       "      <td>2016-04-01 03:00:00</td>\n",
       "      <td>14.0</td>\n",
       "      <td>28.0</td>\n",
       "      <td>10.0</td>\n",
       "      <td>12.0</td>\n",
       "      <td>32.0</td>\n",
       "      <td>9.0</td>\n",
       "      <td>11.0</td>\n",
       "      <td>42.0</td>\n",
       "      <td>7.0</td>\n",
       "      <td>...</td>\n",
       "      <td>59.0</td>\n",
       "      <td>0.0</td>\n",
       "      <td>0.0</td>\n",
       "      <td>0.0</td>\n",
       "      <td>2016</td>\n",
       "      <td>4</td>\n",
       "      <td>1</td>\n",
       "      <td>3</td>\n",
       "      <td>0</td>\n",
       "      <td>0</td>\n",
       "    </tr>\n",
       "    <tr>\n",
       "      <th>2</th>\n",
       "      <td>2016-04-01 06:00:00</td>\n",
       "      <td>13.0</td>\n",
       "      <td>33.0</td>\n",
       "      <td>10.0</td>\n",
       "      <td>11.0</td>\n",
       "      <td>37.0</td>\n",
       "      <td>9.0</td>\n",
       "      <td>10.0</td>\n",
       "      <td>44.0</td>\n",
       "      <td>7.0</td>\n",
       "      <td>...</td>\n",
       "      <td>56.0</td>\n",
       "      <td>0.0</td>\n",
       "      <td>0.0</td>\n",
       "      <td>0.0</td>\n",
       "      <td>2016</td>\n",
       "      <td>4</td>\n",
       "      <td>1</td>\n",
       "      <td>6</td>\n",
       "      <td>0</td>\n",
       "      <td>0</td>\n",
       "    </tr>\n",
       "    <tr>\n",
       "      <th>3</th>\n",
       "      <td>2016-04-01 09:00:00</td>\n",
       "      <td>13.0</td>\n",
       "      <td>33.0</td>\n",
       "      <td>10.0</td>\n",
       "      <td>11.0</td>\n",
       "      <td>35.0</td>\n",
       "      <td>9.0</td>\n",
       "      <td>10.0</td>\n",
       "      <td>41.0</td>\n",
       "      <td>8.0</td>\n",
       "      <td>...</td>\n",
       "      <td>30.0</td>\n",
       "      <td>0.0</td>\n",
       "      <td>0.0</td>\n",
       "      <td>0.0</td>\n",
       "      <td>2016</td>\n",
       "      <td>4</td>\n",
       "      <td>1</td>\n",
       "      <td>9</td>\n",
       "      <td>0</td>\n",
       "      <td>0</td>\n",
       "    </tr>\n",
       "    <tr>\n",
       "      <th>4</th>\n",
       "      <td>2016-04-01 12:00:00</td>\n",
       "      <td>16.0</td>\n",
       "      <td>28.0</td>\n",
       "      <td>10.0</td>\n",
       "      <td>15.0</td>\n",
       "      <td>27.0</td>\n",
       "      <td>11.0</td>\n",
       "      <td>14.0</td>\n",
       "      <td>30.0</td>\n",
       "      <td>9.0</td>\n",
       "      <td>...</td>\n",
       "      <td>20.0</td>\n",
       "      <td>0.0</td>\n",
       "      <td>0.0</td>\n",
       "      <td>0.0</td>\n",
       "      <td>2016</td>\n",
       "      <td>4</td>\n",
       "      <td>1</td>\n",
       "      <td>12</td>\n",
       "      <td>0</td>\n",
       "      <td>0</td>\n",
       "    </tr>\n",
       "  </tbody>\n",
       "</table>\n",
       "<p>5 rows × 21 columns</p>\n",
       "</div>"
      ],
      "text/plain": [
       "  plant1_train.mea_ddhr  plant1_train.tem_in_loc1  plant1_train.hum_in_loc1  \\\n",
       "0   2016-04-01 00:00:00                      16.0                      24.0   \n",
       "1   2016-04-01 03:00:00                      14.0                      28.0   \n",
       "2   2016-04-01 06:00:00                      13.0                      33.0   \n",
       "3   2016-04-01 09:00:00                      13.0                      33.0   \n",
       "4   2016-04-01 12:00:00                      16.0                      28.0   \n",
       "\n",
       "   plant1_train.tem_coil_loc1  plant1_train.tem_in_loc2  \\\n",
       "0                        11.0                      14.0   \n",
       "1                        10.0                      12.0   \n",
       "2                        10.0                      11.0   \n",
       "3                        10.0                      11.0   \n",
       "4                        10.0                      15.0   \n",
       "\n",
       "   plant1_train.hum_in_loc2  plant1_train.tem_coil_loc2  \\\n",
       "0                      23.0                        11.0   \n",
       "1                      32.0                         9.0   \n",
       "2                      37.0                         9.0   \n",
       "3                      35.0                         9.0   \n",
       "4                      27.0                        11.0   \n",
       "\n",
       "   plant1_train.tem_in_loc3  plant1_train.hum_in_loc3  \\\n",
       "0                      13.0                      32.0   \n",
       "1                      11.0                      42.0   \n",
       "2                      10.0                      44.0   \n",
       "3                      10.0                      41.0   \n",
       "4                      14.0                      30.0   \n",
       "\n",
       "   plant1_train.tem_coil_loc3  ...  plant1_train.hum_out_loc1  \\\n",
       "0                        10.0  ...                       42.0   \n",
       "1                         7.0  ...                       59.0   \n",
       "2                         7.0  ...                       56.0   \n",
       "3                         8.0  ...                       30.0   \n",
       "4                         9.0  ...                       20.0   \n",
       "\n",
       "   plant1_train.cond_loc1  plant1_train.cond_loc2  plant1_train.cond_loc3  \\\n",
       "0                     0.0                     0.0                     0.0   \n",
       "1                     0.0                     0.0                     0.0   \n",
       "2                     0.0                     0.0                     0.0   \n",
       "3                     0.0                     0.0                     0.0   \n",
       "4                     0.0                     0.0                     0.0   \n",
       "\n",
       "   year  month  day  hour  minute  second  \n",
       "0  2016      4    1     0       0       0  \n",
       "1  2016      4    1     3       0       0  \n",
       "2  2016      4    1     6       0       0  \n",
       "3  2016      4    1     9       0       0  \n",
       "4  2016      4    1    12       0       0  \n",
       "\n",
       "[5 rows x 21 columns]"
      ]
     },
     "execution_count": 3,
     "metadata": {},
     "output_type": "execute_result"
    }
   ],
   "source": [
    "plant1[\"year\"] = plant1[\"plant1_train.mea_ddhr\"].dt.year\n",
    "plant1[\"month\"] = plant1[\"plant1_train.mea_ddhr\"].dt.month\n",
    "plant1[\"day\"] = plant1[\"plant1_train.mea_ddhr\"].dt.day\n",
    "plant1[\"hour\"] = plant1[\"plant1_train.mea_ddhr\"].dt.hour\n",
    "plant1[\"minute\"] = plant1[\"plant1_train.mea_ddhr\"].dt.minute\n",
    "plant1[\"second\"] = plant1[\"plant1_train.mea_ddhr\"].dt.second\n",
    "plant1.head()"
   ]
  },
  {
   "cell_type": "code",
   "execution_count": 4,
   "metadata": {},
   "outputs": [
    {
     "name": "stdout",
     "output_type": "stream",
     "text": [
      "Index(['plant1_train.mea_ddhr', 'plant1_train.tem_in_loc1',\n",
      "       'plant1_train.hum_in_loc1', 'plant1_train.tem_coil_loc1',\n",
      "       'plant1_train.tem_in_loc2', 'plant1_train.hum_in_loc2',\n",
      "       'plant1_train.tem_coil_loc2', 'plant1_train.tem_in_loc3',\n",
      "       'plant1_train.hum_in_loc3', 'plant1_train.tem_coil_loc3',\n",
      "       'plant1_train.tem_out_loc1', 'plant1_train.hum_out_loc1',\n",
      "       'plant1_train.cond_loc1', 'plant1_train.cond_loc2',\n",
      "       'plant1_train.cond_loc3', 'year', 'month', 'day', 'hour', 'minute',\n",
      "       'second'],\n",
      "      dtype='object')\n"
     ]
    }
   ],
   "source": [
    "print(plant1.keys())"
   ]
  },
  {
   "cell_type": "code",
   "execution_count": 5,
   "metadata": {},
   "outputs": [
    {
     "name": "stdout",
     "output_type": "stream",
     "text": [
      "(58749, 21)\n"
     ]
    }
   ],
   "source": [
    "print(plant1.shape)"
   ]
  },
  {
   "cell_type": "code",
   "execution_count": 6,
   "metadata": {},
   "outputs": [],
   "source": [
    "plant1_linear = plant1.interpolate(method ='linear') "
   ]
  },
  {
   "cell_type": "code",
   "execution_count": 7,
   "metadata": {},
   "outputs": [
    {
     "name": "stdout",
     "output_type": "stream",
     "text": [
      "(58749, 21)\n"
     ]
    }
   ],
   "source": [
    "print(plant1_linear.shape)"
   ]
  },
  {
   "cell_type": "code",
   "execution_count": 8,
   "metadata": {},
   "outputs": [],
   "source": [
    "Y1 = plant1_linear[['plant1_train.cond_loc1']]\n",
    "Y2 = plant1_linear[['plant1_train.cond_loc2']]\n",
    "Y3 = plant1_linear[['plant1_train.cond_loc3']]\n",
    "Y = plant1_linear[['plant1_train.cond_loc1','plant1_train.cond_loc2','plant1_train.cond_loc3']]\n",
    "X = plant1_linear.drop(['plant1_train.mea_ddhr','plant1_train.cond_loc1','plant1_train.cond_loc2','plant1_train.cond_loc3'],axis=1)"
   ]
  },
  {
   "cell_type": "code",
   "execution_count": 9,
   "metadata": {},
   "outputs": [
    {
     "name": "stdout",
     "output_type": "stream",
     "text": [
      "Index(['plant1_train.tem_in_loc1', 'plant1_train.hum_in_loc1',\n",
      "       'plant1_train.tem_coil_loc1', 'plant1_train.tem_in_loc2',\n",
      "       'plant1_train.hum_in_loc2', 'plant1_train.tem_coil_loc2',\n",
      "       'plant1_train.tem_in_loc3', 'plant1_train.hum_in_loc3',\n",
      "       'plant1_train.tem_coil_loc3', 'plant1_train.tem_out_loc1',\n",
      "       'plant1_train.hum_out_loc1', 'year', 'month', 'day', 'hour', 'minute',\n",
      "       'second'],\n",
      "      dtype='object')\n"
     ]
    }
   ],
   "source": [
    "print(X.keys())"
   ]
  },
  {
   "cell_type": "code",
   "execution_count": 10,
   "metadata": {},
   "outputs": [],
   "source": [
    "from sklearn.model_selection import train_test_split\n",
    "\n",
    "X1_train, X1_test, Y1_train, Y1_test = train_test_split(X,Y1,test_size=0.2,shuffle=True)\n",
    "X2_train, X2_test, Y2_train, Y2_test = train_test_split(X,Y2,test_size=0.2,shuffle=True)\n",
    "X3_train, X3_test, Y3_train, Y3_test = train_test_split(X,Y3,test_size=0.2,shuffle=True)"
   ]
  },
  {
   "cell_type": "code",
   "execution_count": 11,
   "metadata": {},
   "outputs": [],
   "source": [
    "import matplotlib.pyplot as plt\n",
    "import numpy as np\n",
    "from sklearn.linear_model import LogisticRegression\n",
    "from sklearn import metrics"
   ]
  },
  {
   "cell_type": "code",
   "execution_count": 12,
   "metadata": {},
   "outputs": [],
   "source": [
    "model = LogisticRegression(C=1000,random_state=0,solver='liblinear')"
   ]
  },
  {
   "cell_type": "code",
   "execution_count": 13,
   "metadata": {},
   "outputs": [
    {
     "data": {
      "text/plain": [
       "LogisticRegression(C=1000, class_weight=None, dual=False, fit_intercept=True,\n",
       "                   intercept_scaling=1, l1_ratio=None, max_iter=100,\n",
       "                   multi_class='auto', n_jobs=None, penalty='l2',\n",
       "                   random_state=0, solver='liblinear', tol=0.0001, verbose=0,\n",
       "                   warm_start=False)"
      ]
     },
     "execution_count": 13,
     "metadata": {},
     "output_type": "execute_result"
    }
   ],
   "source": [
    "model.fit(X1_train,Y1_train.values.ravel())"
   ]
  },
  {
   "cell_type": "code",
   "execution_count": 14,
   "metadata": {},
   "outputs": [],
   "source": [
    "pred1_proba = model.predict_proba(X1_test)"
   ]
  },
  {
   "cell_type": "code",
   "execution_count": 15,
   "metadata": {},
   "outputs": [],
   "source": [
    "pred1 = model.predict(X1_test)"
   ]
  },
  {
   "cell_type": "code",
   "execution_count": 16,
   "metadata": {},
   "outputs": [
    {
     "name": "stdout",
     "output_type": "stream",
     "text": [
      "[[1.00000000e+00 1.01227185e-28]\n",
      " [1.00000000e+00 1.06187280e-38]\n",
      " [1.00000000e+00 3.31600777e-20]\n",
      " ...\n",
      " [1.00000000e+00 2.08536729e-23]\n",
      " [1.00000000e+00 2.19245329e-34]\n",
      " [1.00000000e+00 2.79660130e-21]]\n"
     ]
    }
   ],
   "source": [
    "print(pred1_proba)"
   ]
  },
  {
   "cell_type": "code",
   "execution_count": 18,
   "metadata": {},
   "outputs": [
    {
     "name": "stdout",
     "output_type": "stream",
     "text": [
      "loc1 테스트 세트 정확도: 0.958\n"
     ]
    }
   ],
   "source": [
    "print(\"loc1 테스트 세트 정확도: {:.3f}\".format(metrics.roc_auc_score(Y1_test,pred1)))"
   ]
  },
  {
   "cell_type": "code",
   "execution_count": null,
   "metadata": {},
   "outputs": [],
   "source": [
    "# print(\"loc1 테스트 세트 정확도: {:.3f}\".format(metrics.roc_auc_score(Y1_test,pred1)))"
   ]
  },
  {
   "cell_type": "code",
   "execution_count": 19,
   "metadata": {},
   "outputs": [
    {
     "name": "stdout",
     "output_type": "stream",
     "text": [
      "359\n",
      "459\n",
      "782\n",
      "1132\n",
      "1389\n",
      "1437\n",
      "1516\n",
      "2019\n",
      "2632\n",
      "2714\n",
      "2828\n",
      "3445\n",
      "3845\n",
      "4150\n",
      "4302\n",
      "4358\n",
      "4502\n",
      "4645\n",
      "5088\n",
      "5209\n",
      "5399\n",
      "5733\n",
      "5868\n",
      "5895\n",
      "6056\n",
      "6337\n",
      "6374\n",
      "6421\n",
      "6426\n",
      "6542\n",
      "7114\n",
      "8116\n",
      "8247\n",
      "8904\n",
      "9120\n",
      "9745\n",
      "10117\n",
      "10271\n",
      "10328\n",
      "10775\n",
      "10939\n",
      "10962\n",
      "11040\n",
      "11058\n",
      "11407\n",
      "11548\n"
     ]
    }
   ],
   "source": [
    "for i in range(len(pred1_proba)):\n",
    "    if pred1_proba[i][1] > pred1_proba[i][0]:\n",
    "        print(i)"
   ]
  },
  {
   "cell_type": "code",
   "execution_count": 20,
   "metadata": {},
   "outputs": [
    {
     "name": "stdout",
     "output_type": "stream",
     "text": [
      "[8.58971683e-04 9.99141028e-01]\n"
     ]
    }
   ],
   "source": [
    "print(pred1_proba[10271])"
   ]
  },
  {
   "cell_type": "code",
   "execution_count": null,
   "metadata": {},
   "outputs": [],
   "source": [
    "# print(round(pred1,2))"
   ]
  },
  {
   "cell_type": "code",
   "execution_count": 21,
   "metadata": {},
   "outputs": [
    {
     "name": "stdout",
     "output_type": "stream",
     "text": [
      "[0. 0. 0. ... 0. 0. 0.]\n"
     ]
    }
   ],
   "source": [
    "print(pred1)"
   ]
  },
  {
   "cell_type": "code",
   "execution_count": 22,
   "metadata": {},
   "outputs": [],
   "source": [
    "from sklearn.metrics import confusion_matrix\n",
    "\n",
    "confusion1 = confusion_matrix(Y1_test, pred1)"
   ]
  },
  {
   "cell_type": "code",
   "execution_count": 23,
   "metadata": {},
   "outputs": [
    {
     "name": "stdout",
     "output_type": "stream",
     "text": [
      "[[11700     2]\n",
      " [    4    44]]\n"
     ]
    }
   ],
   "source": [
    "print(confusion1)"
   ]
  },
  {
   "cell_type": "code",
   "execution_count": null,
   "metadata": {},
   "outputs": [],
   "source": []
  }
 ],
 "metadata": {
  "kernelspec": {
   "display_name": "Python 3",
   "language": "python",
   "name": "python3"
  },
  "language_info": {
   "codemirror_mode": {
    "name": "ipython",
    "version": 3
   },
   "file_extension": ".py",
   "mimetype": "text/x-python",
   "name": "python",
   "nbconvert_exporter": "python",
   "pygments_lexer": "ipython3",
   "version": "3.7.6"
  }
 },
 "nbformat": 4,
 "nbformat_minor": 4
}
